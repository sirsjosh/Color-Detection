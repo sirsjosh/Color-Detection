{
 "cells": [
  {
   "cell_type": "markdown",
   "id": "e356fc99",
   "metadata": {},
   "source": [
    "<h1>Color Detection</h1>"
   ]
  },
  {
   "cell_type": "markdown",
   "id": "80b6d3e6",
   "metadata": {},
   "source": [
    "<h2>imports</h2>"
   ]
  },
  {
   "cell_type": "code",
   "execution_count": 2,
   "id": "1af69e2d",
   "metadata": {},
   "outputs": [],
   "source": [
    "import numpy as np\n",
    "import cv2\n",
    "from PIL import Image"
   ]
  },
  {
   "cell_type": "markdown",
   "id": "18eabb0b",
   "metadata": {},
   "source": [
    "<h2>helper functions</h2>"
   ]
  },
  {
   "cell_type": "code",
   "execution_count": 1,
   "id": "ca0c6607",
   "metadata": {},
   "outputs": [],
   "source": [
    "# Function to get HSV limits for a given color\n",
    "def get_limits(color):\n",
    "    c = np.uint8([[color]])  # BGR values\n",
    "    hsvC = cv2.cvtColor(c, cv2.COLOR_BGR2HSV)\n",
    "\n",
    "    hue = hsvC[0][0][0]  # Get the hue value\n",
    "\n",
    "    # Handle red hue wrap-around\n",
    "    if hue >= 165:  # Upper limit for divided red hue\n",
    "        lowerLimit = np.array([hue - 10, 100, 100], dtype=np.uint8)\n",
    "        upperLimit = np.array([180, 255, 255], dtype=np.uint8)\n",
    "    elif hue <= 15:  # Lower limit for divided red hue\n",
    "        lowerLimit = np.array([0, 100, 100], dtype=np.uint8)\n",
    "        upperLimit = np.array([hue + 10, 255, 255], dtype=np.uint8)\n",
    "    else:\n",
    "        lowerLimit = np.array([hue - 10, 100, 100], dtype=np.uint8)\n",
    "        upperLimit = np.array([hue + 10, 255, 255], dtype=np.uint8)\n",
    "\n",
    "    return lowerLimit, upperLimit"
   ]
  },
  {
   "cell_type": "markdown",
   "id": "93ed9a88",
   "metadata": {},
   "source": [
    "<h2> webcam </h2>"
   ]
  },
  {
   "cell_type": "code",
   "execution_count": 3,
   "id": "727efeb6",
   "metadata": {},
   "outputs": [],
   "source": [
    "# Initialize video capture\n",
    "cap = cv2.VideoCapture(1)\n",
    "\n",
    "# Define a yellow color in BGR format\n",
    "yellow = [255, 255, 0]\n",
    "\n",
    "while True:\n",
    "    # Read a frame from the video\n",
    "    ret, frame = cap.read()\n",
    "    \n",
    "    # Convert the frame to HSV format\n",
    "    hsv_image = cv2.cvtColor(frame, cv2.COLOR_BGR2HSV)\n",
    "    \n",
    "    # Get HSV limits for the specified color (yellow)\n",
    "    lower_limit, upper_limit = get_limits(color=yellow)\n",
    "    \n",
    "    # Create a binary mask based on color limits\n",
    "    mask = cv2.inRange(hsv_image, lower_limit, upper_limit)\n",
    "    \n",
    "    # Convert the mask to an Image\n",
    "    mask_ = Image.fromarray(mask)\n",
    "    \n",
    "    # Get the bounding box of the detected region in the mask\n",
    "    bbox = mask_.getbbox()\n",
    "    \n",
    "    # If a bounding box is found, draw a green rectangle around the region in the original frame\n",
    "    if bbox is not None:\n",
    "        x1, y1, x2, y2 = bbox\n",
    "        frame = cv2.rectangle(frame, (x1, y1), (x2, y2), (0, 255, 0), 5)\n",
    "    \n",
    "    # Display the frame\n",
    "    cv2.imshow('frame', frame)\n",
    "    \n",
    "    # Break the loop if the 'q' key is pressed\n",
    "    if cv2.waitKey(1) & 0xFF == ord('q'):\n",
    "        break\n",
    "\n",
    "# Release video capture resources\n",
    "cap.release()\n",
    "\n",
    "# Close all OpenCV windows\n",
    "cv2.destroyAllWindows()"
   ]
  },
  {
   "cell_type": "code",
   "execution_count": null,
   "id": "25ff0d20",
   "metadata": {},
   "outputs": [],
   "source": []
  }
 ],
 "metadata": {
  "kernelspec": {
   "display_name": "Python 3 (ipykernel)",
   "language": "python",
   "name": "python3"
  },
  "language_info": {
   "codemirror_mode": {
    "name": "ipython",
    "version": 3
   },
   "file_extension": ".py",
   "mimetype": "text/x-python",
   "name": "python",
   "nbconvert_exporter": "python",
   "pygments_lexer": "ipython3",
   "version": "3.10.6"
  },
  "toc": {
   "base_numbering": 1,
   "nav_menu": {},
   "number_sections": true,
   "sideBar": true,
   "skip_h1_title": false,
   "title_cell": "Table of Contents",
   "title_sidebar": "Contents",
   "toc_cell": false,
   "toc_position": {},
   "toc_section_display": true,
   "toc_window_display": false
  }
 },
 "nbformat": 4,
 "nbformat_minor": 5
}
